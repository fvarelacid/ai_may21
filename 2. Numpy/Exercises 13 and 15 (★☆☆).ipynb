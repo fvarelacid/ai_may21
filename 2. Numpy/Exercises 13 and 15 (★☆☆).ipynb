{
 "cells": [
  {
   "cell_type": "code",
   "execution_count": 30,
   "id": "biological-worcester",
   "metadata": {},
   "outputs": [],
   "source": [
    "import numpy as np"
   ]
  },
  {
   "cell_type": "markdown",
   "id": "champion-greensboro",
   "metadata": {},
   "source": [
    "**13. Create a 10x10 array with random values and find the minimum and maximum values**"
   ]
  },
  {
   "cell_type": "code",
   "execution_count": 24,
   "id": "joint-explorer",
   "metadata": {},
   "outputs": [
    {
     "output_type": "stream",
     "name": "stdout",
     "text": [
      "[-3.02470425 -2.25140549 -2.20288489 -2.05050989 -1.93767053 -1.91889929\n -1.80248497 -1.51886467 -1.45708772 -1.3850892  -1.29401029 -1.21783367\n -1.08455974 -1.08389752 -1.04352662 -0.985634   -0.89023275 -0.88679645\n -0.84868387 -0.78260828 -0.77948755 -0.77003539 -0.62696931 -0.60799284\n -0.59348202 -0.51435825 -0.5123393  -0.46373927 -0.44363249 -0.42348595\n -0.41925463 -0.40313693 -0.39808035 -0.34229289 -0.33560325 -0.29940009\n -0.25684776 -0.21416717 -0.20730404 -0.19191625 -0.16830734 -0.12912195\n -0.06287903 -0.04982591 -0.03230182  0.00611228  0.05795412  0.09255087\n  0.10194332  0.10315065  0.12168227  0.16299219  0.16871082  0.16947493\n  0.18527141  0.20689392  0.21702833  0.23458318  0.2402231   0.24561421\n  0.2986193   0.30405063  0.31918795  0.34515827  0.34764774  0.39047507\n  0.4395122   0.44206809  0.60297833  0.66400901  0.71382454  0.72679015\n  0.72966369  0.77497711  0.81295388  0.85196588  0.85884293  0.89197822\n  0.92832706  0.94622982  0.94893807  0.9619421   0.98616843  0.9953685\n  1.03563766  1.09892505  1.19412124  1.19963882  1.20469319  1.26100763\n  1.26766412  1.31244109  1.41346125  1.4399139   1.49206524  1.94196991\n  1.96154904  2.01617066  2.05268442  2.7999824 ]\n-3.024704250849679\n2.799982399715453\n"
     ]
    }
   ],
   "source": [
    "arr = np.random.normal(size=(10, 10))\n",
    "arr_flat = arr.flatten()\n",
    "arr_sorted = np.sort(arr_flat)\n",
    "print(arr_sorted)\n",
    "arr_sorted = np.sort(arr_flat)\n",
    "min = arr_sorted[0]\n",
    "max = arr_sorted[-1]\n",
    "print(min)\n",
    "print(max)"
   ]
  },
  {
   "source": [
    "**15. Create a 2d array with 1 on the border and 0 inside**"
   ],
   "cell_type": "code",
   "metadata": {},
   "execution_count": null,
   "outputs": []
  },
  {
   "cell_type": "code",
   "execution_count": 27,
   "id": "sufficient-facility",
   "metadata": {},
   "outputs": [
    {
     "output_type": "stream",
     "name": "stdout",
     "text": [
      "[[1 0 1]\n",
      " [1 0 1]]\n"
     ]
    }
   ],
   "source": [
    "arr = np.array([[1, 0, 1], [1, 0, 1]])\n",
    "print(arr)"
   ]
  }
 ],
 "metadata": {
  "kernelspec": {
   "name": "python388jvsc74a57bd0b1e21d487c014a4ee08b2c01296798d41267222f6e1ae8a0062bead66e07b9e9",
   "display_name": "Python 3.8.8 64-bit ('base': conda)"
  },
  "language_info": {
   "codemirror_mode": {
    "name": "ipython",
    "version": 3
   },
   "file_extension": ".py",
   "mimetype": "text/x-python",
   "name": "python",
   "nbconvert_exporter": "python",
   "pygments_lexer": "ipython3",
   "version": "3.8.8"
  }
 },
 "nbformat": 4,
 "nbformat_minor": 5
}